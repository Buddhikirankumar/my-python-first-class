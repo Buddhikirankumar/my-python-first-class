{
 "cells": [
  {
   "cell_type": "markdown",
   "id": "4f94dd6f",
   "metadata": {},
   "source": [
    "# welcome to python world"
   ]
  },
  {
   "cell_type": "markdown",
   "id": "d87b45fd",
   "metadata": {},
   "source": [
    "learn python basics"
   ]
  },
  {
   "cell_type": "code",
   "execution_count": 1,
   "id": "87a32a5b",
   "metadata": {},
   "outputs": [
    {
     "data": {
      "text/plain": [
       "2"
      ]
     },
     "execution_count": 1,
     "metadata": {},
     "output_type": "execute_result"
    }
   ],
   "source": [
    "1+1"
   ]
  },
  {
   "cell_type": "code",
   "execution_count": 2,
   "id": "c2279e4a",
   "metadata": {},
   "outputs": [
    {
     "data": {
      "text/plain": [
       "1"
      ]
     },
     "execution_count": 2,
     "metadata": {},
     "output_type": "execute_result"
    }
   ],
   "source": [
    "2-1"
   ]
  },
  {
   "cell_type": "code",
   "execution_count": 3,
   "id": "2384336b",
   "metadata": {},
   "outputs": [
    {
     "data": {
      "text/plain": [
       "6"
      ]
     },
     "execution_count": 3,
     "metadata": {},
     "output_type": "execute_result"
    }
   ],
   "source": [
    "2*3"
   ]
  },
  {
   "cell_type": "code",
   "execution_count": 4,
   "id": "86edebe4",
   "metadata": {},
   "outputs": [
    {
     "data": {
      "text/plain": [
       "25"
      ]
     },
     "execution_count": 4,
     "metadata": {},
     "output_type": "execute_result"
    }
   ],
   "source": [
    "5*5"
   ]
  },
  {
   "cell_type": "code",
   "execution_count": 5,
   "id": "feee879b",
   "metadata": {},
   "outputs": [
    {
     "data": {
      "text/plain": [
       "5.0"
      ]
     },
     "execution_count": 5,
     "metadata": {},
     "output_type": "execute_result"
    }
   ],
   "source": [
    "10/2"
   ]
  },
  {
   "cell_type": "code",
   "execution_count": 7,
   "id": "fdd4c50a",
   "metadata": {},
   "outputs": [
    {
     "data": {
      "text/plain": [
       "0"
      ]
     },
     "execution_count": 7,
     "metadata": {},
     "output_type": "execute_result"
    }
   ],
   "source": [
    "10%2"
   ]
  },
  {
   "cell_type": "code",
   "execution_count": 8,
   "id": "c7e21e31",
   "metadata": {},
   "outputs": [
    {
     "data": {
      "text/plain": [
       "1"
      ]
     },
     "execution_count": 8,
     "metadata": {},
     "output_type": "execute_result"
    }
   ],
   "source": [
    "11%2"
   ]
  },
  {
   "cell_type": "code",
   "execution_count": 9,
   "id": "00b20e32",
   "metadata": {},
   "outputs": [
    {
     "data": {
      "text/plain": [
       "6.0"
      ]
     },
     "execution_count": 9,
     "metadata": {},
     "output_type": "execute_result"
    }
   ],
   "source": [
    "18/3"
   ]
  },
  {
   "cell_type": "code",
   "execution_count": 10,
   "id": "d9995fb7",
   "metadata": {},
   "outputs": [
    {
     "data": {
      "text/plain": [
       "5.0"
      ]
     },
     "execution_count": 10,
     "metadata": {},
     "output_type": "execute_result"
    }
   ],
   "source": [
    "15/3"
   ]
  },
  {
   "cell_type": "code",
   "execution_count": 11,
   "id": "43d60aee",
   "metadata": {},
   "outputs": [
    {
     "data": {
      "text/plain": [
       "4"
      ]
     },
     "execution_count": 11,
     "metadata": {},
     "output_type": "execute_result"
    }
   ],
   "source": [
    "2**2"
   ]
  },
  {
   "cell_type": "code",
   "execution_count": 12,
   "id": "f3397b78",
   "metadata": {},
   "outputs": [
    {
     "data": {
      "text/plain": [
       "6.0"
      ]
     },
     "execution_count": 12,
     "metadata": {},
     "output_type": "execute_result"
    }
   ],
   "source": [
    "18/3"
   ]
  },
  {
   "cell_type": "code",
   "execution_count": 13,
   "id": "b48e31dd",
   "metadata": {},
   "outputs": [
    {
     "data": {
      "text/plain": [
       "6"
      ]
     },
     "execution_count": 13,
     "metadata": {},
     "output_type": "execute_result"
    }
   ],
   "source": [
    "18//3"
   ]
  },
  {
   "cell_type": "code",
   "execution_count": 14,
   "id": "7262942b",
   "metadata": {},
   "outputs": [
    {
     "data": {
      "text/plain": [
       "343"
      ]
     },
     "execution_count": 14,
     "metadata": {},
     "output_type": "execute_result"
    }
   ],
   "source": [
    "7**3"
   ]
  },
  {
   "cell_type": "code",
   "execution_count": 15,
   "id": "863dc902",
   "metadata": {},
   "outputs": [],
   "source": [
    "a=10"
   ]
  },
  {
   "cell_type": "code",
   "execution_count": 16,
   "id": "3dc2ac8f",
   "metadata": {},
   "outputs": [
    {
     "data": {
      "text/plain": [
       "10"
      ]
     },
     "execution_count": 16,
     "metadata": {},
     "output_type": "execute_result"
    }
   ],
   "source": [
    "a"
   ]
  },
  {
   "cell_type": "code",
   "execution_count": 17,
   "id": "4dfcf18e",
   "metadata": {},
   "outputs": [],
   "source": [
    "b=5"
   ]
  },
  {
   "cell_type": "code",
   "execution_count": 18,
   "id": "dcbcf242",
   "metadata": {},
   "outputs": [
    {
     "data": {
      "text/plain": [
       "5"
      ]
     },
     "execution_count": 18,
     "metadata": {},
     "output_type": "execute_result"
    }
   ],
   "source": [
    "b"
   ]
  },
  {
   "cell_type": "code",
   "execution_count": 19,
   "id": "faf65c28",
   "metadata": {},
   "outputs": [
    {
     "data": {
      "text/plain": [
       "15"
      ]
     },
     "execution_count": 19,
     "metadata": {},
     "output_type": "execute_result"
    }
   ],
   "source": [
    "a+b"
   ]
  },
  {
   "cell_type": "code",
   "execution_count": 20,
   "id": "2fd3e2ea",
   "metadata": {},
   "outputs": [
    {
     "data": {
      "text/plain": [
       "5"
      ]
     },
     "execution_count": 20,
     "metadata": {},
     "output_type": "execute_result"
    }
   ],
   "source": [
    "a-b"
   ]
  },
  {
   "cell_type": "code",
   "execution_count": 21,
   "id": "c2d2b52d",
   "metadata": {},
   "outputs": [
    {
     "data": {
      "text/plain": [
       "50"
      ]
     },
     "execution_count": 21,
     "metadata": {},
     "output_type": "execute_result"
    }
   ],
   "source": [
    "a*b"
   ]
  },
  {
   "cell_type": "code",
   "execution_count": 22,
   "id": "5c57a3ac",
   "metadata": {},
   "outputs": [
    {
     "data": {
      "text/plain": [
       "2.0"
      ]
     },
     "execution_count": 22,
     "metadata": {},
     "output_type": "execute_result"
    }
   ],
   "source": [
    "a/b"
   ]
  },
  {
   "cell_type": "code",
   "execution_count": 23,
   "id": "2d1c1e76",
   "metadata": {},
   "outputs": [
    {
     "data": {
      "text/plain": [
       "2"
      ]
     },
     "execution_count": 23,
     "metadata": {},
     "output_type": "execute_result"
    }
   ],
   "source": [
    "a//b"
   ]
  },
  {
   "cell_type": "code",
   "execution_count": 24,
   "id": "ce0b51ab",
   "metadata": {},
   "outputs": [],
   "source": [
    "c=a+b"
   ]
  },
  {
   "cell_type": "code",
   "execution_count": 25,
   "id": "3e45e808",
   "metadata": {},
   "outputs": [
    {
     "data": {
      "text/plain": [
       "15"
      ]
     },
     "execution_count": 25,
     "metadata": {},
     "output_type": "execute_result"
    }
   ],
   "source": [
    "c"
   ]
  },
  {
   "cell_type": "code",
   "execution_count": 26,
   "id": "0e05cdcb",
   "metadata": {},
   "outputs": [],
   "source": [
    "d=a-b"
   ]
  },
  {
   "cell_type": "code",
   "execution_count": 27,
   "id": "b7d385ce",
   "metadata": {},
   "outputs": [
    {
     "data": {
      "text/plain": [
       "5"
      ]
     },
     "execution_count": 27,
     "metadata": {},
     "output_type": "execute_result"
    }
   ],
   "source": [
    "d"
   ]
  },
  {
   "cell_type": "code",
   "execution_count": 28,
   "id": "a37e2d97",
   "metadata": {},
   "outputs": [],
   "source": [
    "e=a*b"
   ]
  },
  {
   "cell_type": "code",
   "execution_count": 29,
   "id": "feeb565a",
   "metadata": {},
   "outputs": [
    {
     "data": {
      "text/plain": [
       "50"
      ]
     },
     "execution_count": 29,
     "metadata": {},
     "output_type": "execute_result"
    }
   ],
   "source": [
    "e"
   ]
  },
  {
   "cell_type": "code",
   "execution_count": 30,
   "id": "0008483e",
   "metadata": {},
   "outputs": [
    {
     "name": "stdout",
     "output_type": "stream",
     "text": [
      "hello world \n"
     ]
    }
   ],
   "source": [
    "print(\"hello world \")"
   ]
  },
  {
   "cell_type": "code",
   "execution_count": 31,
   "id": "a64865e2",
   "metadata": {},
   "outputs": [
    {
     "name": "stdout",
     "output_type": "stream",
     "text": [
      "15\n"
     ]
    }
   ],
   "source": [
    "print(c)"
   ]
  },
  {
   "cell_type": "code",
   "execution_count": 32,
   "id": "c8960321",
   "metadata": {},
   "outputs": [
    {
     "name": "stdout",
     "output_type": "stream",
     "text": [
      "c= 15\n"
     ]
    }
   ],
   "source": [
    "print(\"c=\",c)"
   ]
  },
  {
   "cell_type": "code",
   "execution_count": 33,
   "id": "19a394e3",
   "metadata": {},
   "outputs": [],
   "source": [
    "length =56\n",
    "breadth =3"
   ]
  },
  {
   "cell_type": "code",
   "execution_count": 36,
   "id": "b8380232",
   "metadata": {},
   "outputs": [
    {
     "ename": "NameError",
     "evalue": "name 'breadth' is not defined",
     "output_type": "error",
     "traceback": [
      "\u001b[1;31m---------------------------------------------------------------------------\u001b[0m",
      "\u001b[1;31mNameError\u001b[0m                                 Traceback (most recent call last)",
      "Input \u001b[1;32mIn [36]\u001b[0m, in \u001b[0;36m<cell line: 1>\u001b[1;34m()\u001b[0m\n\u001b[1;32m----> 1\u001b[0m area \u001b[38;5;241m=\u001b[39mlength\u001b[38;5;241m*\u001b[39m\u001b[43mbreadth\u001b[49m\n\u001b[0;32m      2\u001b[0m \u001b[38;5;28mprint\u001b[39m(\u001b[38;5;124m\"\u001b[39m\u001b[38;5;124marea if rectangle=\u001b[39m\u001b[38;5;124m\"\u001b[39m,area)\n",
      "\u001b[1;31mNameError\u001b[0m: name 'breadth' is not defined"
     ]
    }
   ],
   "source": [
    "area =length*breadth\n",
    "print(\"area if rectangle=\",area)"
   ]
  },
  {
   "cell_type": "code",
   "execution_count": 37,
   "id": "2546ab35",
   "metadata": {},
   "outputs": [],
   "source": [
    "country= \"france\""
   ]
  },
  {
   "cell_type": "code",
   "execution_count": 38,
   "id": "bb8a1197",
   "metadata": {},
   "outputs": [
    {
     "name": "stdout",
     "output_type": "stream",
     "text": [
      "france\n"
     ]
    }
   ],
   "source": [
    "print(country)"
   ]
  },
  {
   "cell_type": "code",
   "execution_count": 40,
   "id": "460d0012",
   "metadata": {},
   "outputs": [
    {
     "ename": "NameError",
     "evalue": "name 'france' is not defined",
     "output_type": "error",
     "traceback": [
      "\u001b[1;31m---------------------------------------------------------------------------\u001b[0m",
      "\u001b[1;31mNameError\u001b[0m                                 Traceback (most recent call last)",
      "Input \u001b[1;32mIn [40]\u001b[0m, in \u001b[0;36m<cell line: 1>\u001b[1;34m()\u001b[0m\n\u001b[1;32m----> 1\u001b[0m \u001b[38;5;28mprint\u001b[39m(\u001b[38;5;124m\"\u001b[39m\u001b[38;5;124mcountry name is :\u001b[39m\u001b[38;5;124m\"\u001b[39m,\u001b[43mfrance\u001b[49m)\n",
      "\u001b[1;31mNameError\u001b[0m: name 'france' is not defined"
     ]
    }
   ],
   "source": [
    "print(\"country name is :\",france)"
   ]
  },
  {
   "cell_type": "code",
   "execution_count": 95,
   "id": "dd7a22e8",
   "metadata": {},
   "outputs": [
    {
     "ename": "SyntaxError",
     "evalue": "invalid syntax (3829021763.py, line 1)",
     "output_type": "error",
     "traceback": [
      "\u001b[1;36m  Input \u001b[1;32mIn [95]\u001b[1;36m\u001b[0m\n\u001b[1;33m    area of rectangle\u001b[0m\n\u001b[1;37m         ^\u001b[0m\n\u001b[1;31mSyntaxError\u001b[0m\u001b[1;31m:\u001b[0m invalid syntax\n"
     ]
    }
   ],
   "source": [
    "area of rectangle\n",
    "length=56\n",
    "breadth=3\n",
    "\n",
    "area=length*breadh\n",
    "print(\"area\")"
   ]
  },
  {
   "cell_type": "code",
   "execution_count": 96,
   "id": "a4c00c8e",
   "metadata": {},
   "outputs": [
    {
     "data": {
      "text/plain": [
       "'66'"
      ]
     },
     "execution_count": 96,
     "metadata": {},
     "output_type": "execute_result"
    }
   ],
   "source": [
    "\"6\"+\"6\""
   ]
  },
  {
   "cell_type": "code",
   "execution_count": 43,
   "id": "96b46f00",
   "metadata": {},
   "outputs": [
    {
     "data": {
      "text/plain": [
       "'Hellopython'"
      ]
     },
     "execution_count": 43,
     "metadata": {},
     "output_type": "execute_result"
    }
   ],
   "source": [
    "\"Hello\"+\"python\""
   ]
  },
  {
   "cell_type": "code",
   "execution_count": 44,
   "id": "0d708d6a",
   "metadata": {},
   "outputs": [
    {
     "data": {
      "text/plain": [
       "'united0states'"
      ]
     },
     "execution_count": 44,
     "metadata": {},
     "output_type": "execute_result"
    }
   ],
   "source": [
    "\"united0\"+\"states\""
   ]
  },
  {
   "cell_type": "code",
   "execution_count": 45,
   "id": "7a8b8675",
   "metadata": {},
   "outputs": [
    {
     "data": {
      "text/plain": [
       "'TeslaaICar'"
      ]
     },
     "execution_count": 45,
     "metadata": {},
     "output_type": "execute_result"
    }
   ],
   "source": [
    "'Tesla'+'aICar'"
   ]
  },
  {
   "cell_type": "code",
   "execution_count": 46,
   "id": "457797a3",
   "metadata": {},
   "outputs": [
    {
     "data": {
      "text/plain": [
       "15"
      ]
     },
     "execution_count": 46,
     "metadata": {},
     "output_type": "execute_result"
    }
   ],
   "source": [
    "7+8"
   ]
  },
  {
   "cell_type": "markdown",
   "id": "31b34cc0",
   "metadata": {},
   "source": [
    "Boolean Commands"
   ]
  },
  {
   "cell_type": "code",
   "execution_count": 48,
   "id": "35bd24ea",
   "metadata": {},
   "outputs": [
    {
     "data": {
      "text/plain": [
       "True"
      ]
     },
     "execution_count": 48,
     "metadata": {},
     "output_type": "execute_result"
    }
   ],
   "source": [
    "50==50"
   ]
  },
  {
   "cell_type": "code",
   "execution_count": 49,
   "id": "156d9539",
   "metadata": {},
   "outputs": [
    {
     "data": {
      "text/plain": [
       "True"
      ]
     },
     "execution_count": 49,
     "metadata": {},
     "output_type": "execute_result"
    }
   ],
   "source": [
    "90>20"
   ]
  },
  {
   "cell_type": "code",
   "execution_count": 50,
   "id": "0c71c996",
   "metadata": {},
   "outputs": [
    {
     "data": {
      "text/plain": [
       "True"
      ]
     },
     "execution_count": 50,
     "metadata": {},
     "output_type": "execute_result"
    }
   ],
   "source": [
    "35>10"
   ]
  },
  {
   "cell_type": "code",
   "execution_count": 51,
   "id": "9b61016f",
   "metadata": {},
   "outputs": [
    {
     "data": {
      "text/plain": [
       "True"
      ]
     },
     "execution_count": 51,
     "metadata": {},
     "output_type": "execute_result"
    }
   ],
   "source": [
    "100==100"
   ]
  },
  {
   "cell_type": "code",
   "execution_count": 52,
   "id": "b0e5e3a9",
   "metadata": {},
   "outputs": [],
   "source": [
    "x=10\n",
    "y=20"
   ]
  },
  {
   "cell_type": "code",
   "execution_count": 53,
   "id": "c941980a",
   "metadata": {},
   "outputs": [
    {
     "data": {
      "text/plain": [
       "True"
      ]
     },
     "execution_count": 53,
     "metadata": {},
     "output_type": "execute_result"
    }
   ],
   "source": [
    "y>x"
   ]
  },
  {
   "cell_type": "code",
   "execution_count": 54,
   "id": "0effc3c8",
   "metadata": {},
   "outputs": [
    {
     "data": {
      "text/plain": [
       "False"
      ]
     },
     "execution_count": 54,
     "metadata": {},
     "output_type": "execute_result"
    }
   ],
   "source": [
    "y<x"
   ]
  },
  {
   "cell_type": "code",
   "execution_count": 55,
   "id": "15b0517b",
   "metadata": {},
   "outputs": [
    {
     "data": {
      "text/plain": [
       "False"
      ]
     },
     "execution_count": 55,
     "metadata": {},
     "output_type": "execute_result"
    }
   ],
   "source": [
    "y==x"
   ]
  },
  {
   "cell_type": "code",
   "execution_count": 56,
   "id": "a0ebcf8f",
   "metadata": {},
   "outputs": [
    {
     "data": {
      "text/plain": [
       "True"
      ]
     },
     "execution_count": 56,
     "metadata": {},
     "output_type": "execute_result"
    }
   ],
   "source": [
    "y!=x"
   ]
  },
  {
   "cell_type": "code",
   "execution_count": 57,
   "id": "9002d037",
   "metadata": {},
   "outputs": [
    {
     "data": {
      "text/plain": [
       "int"
      ]
     },
     "execution_count": 57,
     "metadata": {},
     "output_type": "execute_result"
    }
   ],
   "source": [
    "type(29)"
   ]
  },
  {
   "cell_type": "code",
   "execution_count": 58,
   "id": "01a11727",
   "metadata": {},
   "outputs": [
    {
     "data": {
      "text/plain": [
       "float"
      ]
     },
     "execution_count": 58,
     "metadata": {},
     "output_type": "execute_result"
    }
   ],
   "source": [
    "type(3.5)"
   ]
  },
  {
   "cell_type": "code",
   "execution_count": 59,
   "id": "c02b8a17",
   "metadata": {},
   "outputs": [
    {
     "data": {
      "text/plain": [
       "int"
      ]
     },
     "execution_count": 59,
     "metadata": {},
     "output_type": "execute_result"
    }
   ],
   "source": [
    "type(68)"
   ]
  },
  {
   "cell_type": "code",
   "execution_count": 60,
   "id": "6e4c9fe3",
   "metadata": {},
   "outputs": [
    {
     "data": {
      "text/plain": [
       "float"
      ]
     },
     "execution_count": 60,
     "metadata": {},
     "output_type": "execute_result"
    }
   ],
   "source": [
    "type(75.45)"
   ]
  },
  {
   "cell_type": "code",
   "execution_count": 61,
   "id": "62400ded",
   "metadata": {},
   "outputs": [
    {
     "data": {
      "text/plain": [
       "str"
      ]
     },
     "execution_count": 61,
     "metadata": {},
     "output_type": "execute_result"
    }
   ],
   "source": [
    "type(\"mobile\")"
   ]
  },
  {
   "cell_type": "code",
   "execution_count": 62,
   "id": "641a5e24",
   "metadata": {},
   "outputs": [],
   "source": [
    "p=30"
   ]
  },
  {
   "cell_type": "code",
   "execution_count": 63,
   "id": "4e7c50ea",
   "metadata": {},
   "outputs": [
    {
     "data": {
      "text/plain": [
       "int"
      ]
     },
     "execution_count": 63,
     "metadata": {},
     "output_type": "execute_result"
    }
   ],
   "source": [
    "type(p)"
   ]
  },
  {
   "cell_type": "code",
   "execution_count": 64,
   "id": "0c930788",
   "metadata": {},
   "outputs": [
    {
     "data": {
      "text/plain": [
       "30.0"
      ]
     },
     "execution_count": 64,
     "metadata": {},
     "output_type": "execute_result"
    }
   ],
   "source": [
    "float(p)"
   ]
  },
  {
   "cell_type": "code",
   "execution_count": 65,
   "id": "6f5c388e",
   "metadata": {},
   "outputs": [
    {
     "data": {
      "text/plain": [
       "78.0"
      ]
     },
     "execution_count": 65,
     "metadata": {},
     "output_type": "execute_result"
    }
   ],
   "source": [
    "float(78)"
   ]
  },
  {
   "cell_type": "code",
   "execution_count": 66,
   "id": "3947b498",
   "metadata": {},
   "outputs": [
    {
     "data": {
      "text/plain": [
       "57"
      ]
     },
     "execution_count": 66,
     "metadata": {},
     "output_type": "execute_result"
    }
   ],
   "source": [
    "int(57.22)"
   ]
  },
  {
   "cell_type": "code",
   "execution_count": 67,
   "id": "005ac769",
   "metadata": {},
   "outputs": [
    {
     "data": {
      "text/plain": [
       "29"
      ]
     },
     "execution_count": 67,
     "metadata": {},
     "output_type": "execute_result"
    }
   ],
   "source": [
    "int(29.56)"
   ]
  },
  {
   "cell_type": "code",
   "execution_count": 68,
   "id": "dad1f47e",
   "metadata": {},
   "outputs": [
    {
     "data": {
      "text/plain": [
       "88.0"
      ]
     },
     "execution_count": 68,
     "metadata": {},
     "output_type": "execute_result"
    }
   ],
   "source": [
    "float(88)"
   ]
  },
  {
   "cell_type": "markdown",
   "id": "5fe24fd6",
   "metadata": {},
   "source": [
    "Length of any data"
   ]
  },
  {
   "cell_type": "code",
   "execution_count": 72,
   "id": "6f9aa963",
   "metadata": {},
   "outputs": [
    {
     "data": {
      "text/plain": [
       "6"
      ]
     },
     "execution_count": 72,
     "metadata": {},
     "output_type": "execute_result"
    }
   ],
   "source": [
    "len(\"abcdef\")"
   ]
  },
  {
   "cell_type": "code",
   "execution_count": 73,
   "id": "b5250ba3",
   "metadata": {},
   "outputs": [
    {
     "data": {
      "text/plain": [
       "5"
      ]
     },
     "execution_count": 73,
     "metadata": {},
     "output_type": "execute_result"
    }
   ],
   "source": [
    "len(\"noida\")"
   ]
  },
  {
   "cell_type": "code",
   "execution_count": 74,
   "id": "268a17df",
   "metadata": {},
   "outputs": [
    {
     "data": {
      "text/plain": [
       "4"
      ]
     },
     "execution_count": 74,
     "metadata": {},
     "output_type": "execute_result"
    }
   ],
   "source": [
    "len(\"pune\")"
   ]
  },
  {
   "cell_type": "code",
   "execution_count": 75,
   "id": "54179194",
   "metadata": {},
   "outputs": [
    {
     "data": {
      "text/plain": [
       "10"
      ]
     },
     "execution_count": 75,
     "metadata": {},
     "output_type": "execute_result"
    }
   ],
   "source": [
    "len(\"washington\")"
   ]
  },
  {
   "cell_type": "code",
   "execution_count": 76,
   "id": "f66629c0",
   "metadata": {},
   "outputs": [
    {
     "data": {
      "text/plain": [
       "6"
      ]
     },
     "execution_count": 76,
     "metadata": {},
     "output_type": "execute_result"
    }
   ],
   "source": [
    "len(\"burger\")"
   ]
  },
  {
   "cell_type": "code",
   "execution_count": 77,
   "id": "1022cdee",
   "metadata": {},
   "outputs": [],
   "source": [
    "mobile=\"apple\""
   ]
  },
  {
   "cell_type": "code",
   "execution_count": 79,
   "id": "78e3d273",
   "metadata": {},
   "outputs": [
    {
     "data": {
      "text/plain": [
       "5"
      ]
     },
     "execution_count": 79,
     "metadata": {},
     "output_type": "execute_result"
    }
   ],
   "source": [
    "len(\"apple\")"
   ]
  },
  {
   "cell_type": "code",
   "execution_count": 80,
   "id": "475b59b8",
   "metadata": {},
   "outputs": [
    {
     "data": {
      "text/plain": [
       "6"
      ]
     },
     "execution_count": 80,
     "metadata": {},
     "output_type": "execute_result"
    }
   ],
   "source": [
    "len(\"mobile\")"
   ]
  },
  {
   "cell_type": "code",
   "execution_count": 81,
   "id": "59159330",
   "metadata": {},
   "outputs": [
    {
     "data": {
      "text/plain": [
       "5"
      ]
     },
     "execution_count": 81,
     "metadata": {},
     "output_type": "execute_result"
    }
   ],
   "source": [
    "len(mobile)"
   ]
  },
  {
   "cell_type": "code",
   "execution_count": null,
   "id": "51132ef3",
   "metadata": {},
   "outputs": [],
   "source": []
  },
  {
   "cell_type": "code",
   "execution_count": null,
   "id": "25c0c60d",
   "metadata": {},
   "outputs": [],
   "source": []
  },
  {
   "cell_type": "markdown",
   "id": "1e6d3353",
   "metadata": {},
   "source": [
    "User input"
   ]
  },
  {
   "cell_type": "code",
   "execution_count": 70,
   "id": "3691fe84",
   "metadata": {},
   "outputs": [
    {
     "name": "stdout",
     "output_type": "stream",
     "text": [
      "enter any city nameibrahiimpatnam\n"
     ]
    },
    {
     "data": {
      "text/plain": [
       "'ibrahiimpatnam'"
      ]
     },
     "execution_count": 70,
     "metadata": {},
     "output_type": "execute_result"
    }
   ],
   "source": [
    "city=input(\"enter any city name\")\n",
    "city"
   ]
  },
  {
   "cell_type": "code",
   "execution_count": 82,
   "id": "b5740079",
   "metadata": {},
   "outputs": [
    {
     "data": {
      "text/plain": [
       "4"
      ]
     },
     "execution_count": 82,
     "metadata": {},
     "output_type": "execute_result"
    }
   ],
   "source": [
    "len(\"city\")"
   ]
  },
  {
   "cell_type": "code",
   "execution_count": 83,
   "id": "6dd2275b",
   "metadata": {},
   "outputs": [
    {
     "data": {
      "text/plain": [
       "14"
      ]
     },
     "execution_count": 83,
     "metadata": {},
     "output_type": "execute_result"
    }
   ],
   "source": [
    "len(city)"
   ]
  },
  {
   "cell_type": "code",
   "execution_count": 84,
   "id": "7d6aad74",
   "metadata": {},
   "outputs": [
    {
     "name": "stdout",
     "output_type": "stream",
     "text": [
      "enter any food namehyderabad biryai\n"
     ]
    }
   ],
   "source": [
    "food=input(\"enter any food name\")"
   ]
  },
  {
   "cell_type": "code",
   "execution_count": 85,
   "id": "9d5c7cee",
   "metadata": {},
   "outputs": [
    {
     "name": "stdout",
     "output_type": "stream",
     "text": [
      "hyderabad biryai\n"
     ]
    }
   ],
   "source": [
    "print(food)"
   ]
  },
  {
   "cell_type": "code",
   "execution_count": 86,
   "id": "8185afe7",
   "metadata": {},
   "outputs": [
    {
     "data": {
      "text/plain": [
       "16"
      ]
     },
     "execution_count": 86,
     "metadata": {},
     "output_type": "execute_result"
    }
   ],
   "source": [
    "len(food)"
   ]
  },
  {
   "cell_type": "code",
   "execution_count": 87,
   "id": "401a0db7",
   "metadata": {},
   "outputs": [
    {
     "name": "stdout",
     "output_type": "stream",
     "text": [
      "enter any company nametcs\n",
      "tcs\n"
     ]
    },
    {
     "data": {
      "text/plain": [
       "3"
      ]
     },
     "execution_count": 87,
     "metadata": {},
     "output_type": "execute_result"
    }
   ],
   "source": [
    "company=input(\"enter any company name\")\n",
    "print(company)\n",
    "len(company)"
   ]
  },
  {
   "cell_type": "code",
   "execution_count": null,
   "id": "4b992b08",
   "metadata": {},
   "outputs": [],
   "source": [
    "x=input(\"enter any value\")\n",
    "print(value)\n",
    "type(x)\n",
    "float(x)"
   ]
  },
  {
   "cell_type": "code",
   "execution_count": 91,
   "id": "5f193b34",
   "metadata": {},
   "outputs": [
    {
     "name": "stdout",
     "output_type": "stream",
     "text": [
      "80\n"
     ]
    }
   ],
   "source": [
    "print(x)"
   ]
  },
  {
   "cell_type": "code",
   "execution_count": 92,
   "id": "11709b7e",
   "metadata": {},
   "outputs": [
    {
     "data": {
      "text/plain": [
       "str"
      ]
     },
     "execution_count": 92,
     "metadata": {},
     "output_type": "execute_result"
    }
   ],
   "source": [
    "type(x)"
   ]
  },
  {
   "cell_type": "code",
   "execution_count": 93,
   "id": "50a4125d",
   "metadata": {},
   "outputs": [
    {
     "name": "stdout",
     "output_type": "stream",
     "text": [
      "enter length85\n",
      "enter breadh21\n",
      "area of rectangle 1785\n"
     ]
    }
   ],
   "source": [
    "length =int(input(\"enter length\"))\n",
    "breadh= int(input(\"enter breadh\"))\n",
    "area= length*breadh\n",
    "print(\"area of rectangle\",area)\n"
   ]
  },
  {
   "cell_type": "code",
   "execution_count": null,
   "id": "1991d79e",
   "metadata": {},
   "outputs": [],
   "source": []
  }
 ],
 "metadata": {
  "kernelspec": {
   "display_name": "Python 3 (ipykernel)",
   "language": "python",
   "name": "python3"
  },
  "language_info": {
   "codemirror_mode": {
    "name": "ipython",
    "version": 3
   },
   "file_extension": ".py",
   "mimetype": "text/x-python",
   "name": "python",
   "nbconvert_exporter": "python",
   "pygments_lexer": "ipython3",
   "version": "3.9.12"
  }
 },
 "nbformat": 4,
 "nbformat_minor": 5
}
